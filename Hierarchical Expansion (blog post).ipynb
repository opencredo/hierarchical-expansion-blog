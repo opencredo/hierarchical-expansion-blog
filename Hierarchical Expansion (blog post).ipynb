{
 "cells": [
  {
   "cell_type": "markdown",
   "metadata": {},
   "source": [
    "# Blog Post Generation using increasingly detailed summaries of sections\n"
   ]
  },
  {
   "cell_type": "markdown",
   "metadata": {},
   "source": [
    "## Setup"
   ]
  },
  {
   "cell_type": "code",
   "execution_count": null,
   "metadata": {},
   "outputs": [],
   "source": [
    "!pip install openai\n",
    "\n",
    "\n",
    "import os\n",
    "import openai\n",
    "import re\n",
    "from pprint import pprint\n",
    "from getpass import getpass"
   ]
  },
  {
   "cell_type": "code",
   "execution_count": null,
   "metadata": {},
   "outputs": [],
   "source": [
    "if os.getenv(\"OPENAI_API_KEY\") is None:\n",
    "  if any(['VSCODE' in x for x in os.environ.keys()]):\n",
    "    print('Please enter password in the VS Code prompt at the top of your VS Code window!')\n",
    "  os.environ[\"OPENAI_API_KEY\"] = getpass(\"Paste your OpenAI key from: https://platform.openai.com/account/api-keys\\n\")\n",
    "  openai.api_key = os.getenv(\"OPENAI_API_KEY\", \"\")\n",
    "\n",
    "assert os.getenv(\"OPENAI_API_KEY\", \"\").startswith(\"sk-\"), \"This doesn't look like a valid OpenAI API key\"\n",
    "print(\"OpenAI API key configured\")"
   ]
  },
  {
   "cell_type": "markdown",
   "metadata": {},
   "source": [
    "## Generating an Outline\n",
    "Here we generate an outline of the blog post, divided into sections."
   ]
  },
  {
   "cell_type": "code",
   "execution_count": 43,
   "metadata": {},
   "outputs": [],
   "source": [
    "MODEL = \"gpt-3.5-turbo\"\n",
    "\n",
    "tone = \"professional\"\n",
    "synopsis = \"The three different types of chocolate, milk, dark, and white. The blog post should be informative and educational and feature a comparison of the health benefits of each type of chocolate.\"\n",
    "type_of_content = \"blog post\"\n",
    "role_template = f\"\"\"You are writer who specialises in outlining the structure of {type_of_content}.\"\"\"\n",
    "prompt_template = f\"\"\" \n",
    "Develop a well-structured outline for a {tone} {type_of_content} about {synopsis}. The outline will be divided into sections, you will output the title of each section and give a three bullet points describing what it will talk about. Make sure each section stands on its own and doesn't repeat things that have been said in other sections. Give your output in the following format: \"Section Title:<title> Description:<description>\\n\".\n",
    "\"\"\"\n",
    "response = openai.ChatCompletion.create(\n",
    "    model=MODEL,\n",
    "    messages=[\n",
    "        {\"role\": \"system\", \"content\": role_template},\n",
    "        {\"role\": \"user\", \"content\": prompt_template},  ],\n",
    "    temperature=0,\n",
    ")"
   ]
  },
  {
   "cell_type": "code",
   "execution_count": 66,
   "metadata": {},
   "outputs": [],
   "source": [
    "# Parse the response\n",
    "response_content = response.choices[0].message.content\n",
    "sections = response_content.split(\"Section Title:\")[1:]\n",
    "short_summaries = []\n",
    "for section in sections:\n",
    "    title, description = section.split(\"Description:\")\n",
    "    title = title.replace(\"\\n\",\"\").strip()\n",
    "    short_summaries.append((title, description))"
   ]
  },
  {
   "cell_type": "code",
   "execution_count": 69,
   "metadata": {},
   "outputs": [
    {
     "name": "stdout",
     "output_type": "stream",
     "text": [
      "Introduction\n",
      " Introduce the topic of the blog post and provide a brief overview of the three different types of chocolate.\n",
      "\n",
      "\n",
      "Milk Chocolate\n",
      " Discuss the characteristics and composition of milk chocolate, including its higher sugar and milk content compared to other types of chocolate.\n",
      "- Explain the process of making milk chocolate and its smooth and creamy texture.\n",
      "- Highlight popular brands and products that use milk chocolate.\n",
      "\n",
      "\n",
      "Dark Chocolate\n",
      " Explore the features and qualities of dark chocolate, known for its rich flavor and higher cocoa content.\n",
      "- Discuss the health benefits of dark chocolate, such as its antioxidant properties and potential cardiovascular benefits.\n",
      "- Explain the different percentages of cocoa in dark chocolate and how it affects taste and health benefits.\n",
      "\n",
      "\n",
      "White Chocolate\n",
      " Examine the unique characteristics of white chocolate, which is technically not a true chocolate due to the absence of cocoa solids.\n",
      "- Discuss the ingredients used in white chocolate, such as cocoa butter, sugar, and milk.\n",
      "- Address the controversy surrounding white chocolate and its lack of health benefits compared to milk and dark chocolate.\n",
      "\n",
      "\n",
      "Health Benefits Comparison\n",
      " Compare the health benefits of milk, dark, and white chocolate, highlighting their differences and similarities.\n",
      "- Discuss the potential benefits of consuming moderate amounts of chocolate, such as improved mood and cognitive function.\n",
      "- Address the importance of choosing high-quality chocolate and consuming it in moderation.\n",
      "\n",
      "\n",
      "Conclusion\n",
      " Summarize the key points discussed in the blog post and emphasize the importance of understanding the differences between milk, dark, and white chocolate.\n",
      "- Encourage readers to make informed choices when selecting chocolate products based on their preferences and health goals.\n",
      "- Provide a final thought or recommendation related to the topic of chocolate consumption.\n"
     ]
    }
   ],
   "source": [
    "for title, description in short_summaries:\n",
    "    print(f\"{title}\\n{description}\")"
   ]
  },
  {
   "cell_type": "markdown",
   "metadata": {},
   "source": [
    "## Building more detailed summaries\n",
    "Now, for each scene we will generate a more detailed summary of the events in that scene. This will summary will then be used in the prompt to generate the script for that scene."
   ]
  },
  {
   "cell_type": "code",
   "execution_count": 64,
   "metadata": {},
   "outputs": [],
   "source": [
    "# Summary generation\n",
    "def generate_section_summary(section_title, section_description, previous_section=None, next_section=None):\n",
    "    context = \"\"\n",
    "    context += f\" the previous section was called {previous_section},\" if previous_section else \"\"\n",
    "    context += f\" the section that you are writing is called {section_title},\"\n",
    "    context += f\" the next section after this is going to be called {next_section}.\" if next_section else \"\"\n",
    "    summary_role = f\"You are a bot who expands brief summaries of a section of a {type_of_content} into bullet pointed summaries that a writer can work from. For context,{context} But you will be given an individual section summary to expand.\"\n",
    "    summary_prompt = f\"\"\"In BULLET POINTS write a detailed summary for the following section summary:{section_title}\\n{section_description}. \n",
    "    Ensure that the summary is consistent with and fits into the synopsis of the whole {type_of_content}.\"\"\"\n",
    "    \n",
    "    response = openai.ChatCompletion.create(\n",
    "        model=MODEL,\n",
    "        messages=[\n",
    "            {\"role\": \"system\", \"content\": summary_role},\n",
    "            {\"role\": \"user\", \"content\": summary_prompt},  ],\n",
    "        temperature=0,\n",
    "    )\n",
    "    response_content = response.choices[0].message.content\n",
    "    section_summary = response_content # TODO: extract the summary from the response if necessary\n",
    "    return section_summary"
   ]
  },
  {
   "cell_type": "markdown",
   "metadata": {},
   "source": [
    "## Generating written content\n",
    "Now we can generate the text content for each section using the detailed summary for that section."
   ]
  },
  {
   "cell_type": "code",
   "execution_count": 49,
   "metadata": {},
   "outputs": [],
   "source": [
    "# Script generation\n",
    "def generate_section_text(section_summary):\n",
    "    if section_summary is None:\n",
    "        raise ValueError(\"section_summary cannot be None\")\n",
    "    script_role = f\"You are a {tone} {type_of_content} writer. You will be given a detailed summary of a section of a blog post and will output it in well-written, reader-friendly fashion. If you are unsure of something, leave gaps in the output for another writer to fill in. Do not make up any information.\"\n",
    "    script_prompt = f\"\"\"The section summary is as follows:\\n{section_summary}\\n\\nWrite the section making sure you follow the points described in the summary. The writing should be engaging, entertaining and {tone} in tone, it can include the use of bullet points and gaps for images if appropriate. The section should be between 100 and 200 words long.\"\"\"\n",
    "    response = openai.ChatCompletion.create(\n",
    "        model=MODEL,\n",
    "        messages=[\n",
    "            {\"role\": \"system\", \"content\": script_role},\n",
    "            {\"role\": \"user\", \"content\": script_prompt},  ],\n",
    "        temperature=0,\n",
    "    )\n",
    "    response_content = response.choices[0].message.content\n",
    "    # print(response_content)\n",
    "    \n",
    "    return response_content"
   ]
  },
  {
   "cell_type": "code",
   "execution_count": 70,
   "metadata": {},
   "outputs": [
    {
     "name": "stdout",
     "output_type": "stream",
     "text": [
      "- The introduction of the blog post serves to introduce the topic of chocolate and provide a brief overview of the three different types of chocolate.\n",
      "- It sets the stage for the rest of the blog post by giving readers a general understanding of what will be discussed.\n",
      "- The introduction may include a brief history of chocolate and its significance in various cultures.\n",
      "- It may also mention the popularity of chocolate as a sweet treat and its versatility in various culinary creations.\n",
      "- The three different types of chocolate that will be explored in the blog post are milk chocolate, dark chocolate, and white chocolate.\n",
      "- The introduction may touch upon the basic characteristics of each type, such as their ingredients and flavor profiles.\n",
      "- It may also mention the different uses and preferences for each type of chocolate.\n",
      "- Overall, the introduction aims to capture the readers' attention and provide a foundation for the subsequent sections that delve deeper into each type of chocolate.\n"
     ]
    }
   ],
   "source": [
    "example_title, example_description = short_summaries[0]\n",
    "example_summary = generate_section_summary(example_title, example_description, None, short_summaries[1][0])\n",
    "print(example_summary)"
   ]
  },
  {
   "cell_type": "code",
   "execution_count": 65,
   "metadata": {},
   "outputs": [
    {
     "name": "stdout",
     "output_type": "stream",
     "text": [
      "Final blog post:\n",
      "## Introduction\n",
      "Welcome to our blog post all about chocolate! In this article, we will be exploring the wonderful world of chocolate and delving into the three different types that exist. Whether you're a chocolate connoisseur or simply have a sweet tooth, this post is sure to satisfy your cravings for knowledge.\n",
      "\n",
      "Now, let's dive right in and take a look at the three main types of chocolate:\n",
      "\n",
      "1. Milk Chocolate: This is the most popular type of chocolate and is loved by people of all ages. It is made by combining cocoa solids, cocoa butter, sugar, and milk powder. The result is a smooth and creamy texture with a sweet and milky flavor. Milk chocolate is perfect for those who prefer a milder and less intense chocolate experience.\n",
      "\n",
      "2. Dark Chocolate: If you're a fan of rich and intense flavors, then dark chocolate is for you. Made with a higher percentage of cocoa solids and less sugar, dark chocolate has a bittersweet taste that is often described as complex and sophisticated. It is also known for its health benefits, as it contains antioxidants that can help improve heart health.\n",
      "\n",
      "3. White Chocolate: While some may argue that white chocolate isn't technically chocolate, it still deserves a spot on our list. Made from cocoa butter, sugar, and milk solids, white chocolate has a creamy and sweet flavor. It lacks the bitterness of dark chocolate and the depth of flavor found in milk chocolate, but it is loved by many for its smooth and melt-in-your-mouth texture.\n",
      "\n",
      "So, whether you prefer the sweetness of milk chocolate, the richness of dark chocolate, or the creaminess of white chocolate, there is a type of chocolate out there to suit every taste bud. Stay tuned for the next section where we will be exploring the origins of chocolate and its fascinating history.\n",
      "\n",
      "## Milk Chocolate\n",
      "Milk chocolate, the beloved treat that has been satisfying our sweet tooth for centuries. With its smooth and creamy texture, it's no wonder why it's a favorite among chocolate enthusiasts. In this section, we will delve into the characteristics and composition of milk chocolate, as well as explore the process of making it.\n",
      "\n",
      "One of the defining features of milk chocolate is its higher sugar and milk content compared to other types of chocolate. This gives it a sweeter and creamier taste that many find irresistible. The sugar content helps to balance out the bitterness of the cocoa, while the milk adds a luscious richness to the chocolate.\n",
      "\n",
      "So, how is milk chocolate made? The process begins with cocoa beans being harvested and fermented. The beans are then roasted to bring out their distinct flavors. After roasting, the cocoa beans are ground into a paste called chocolate liquor. This liquor is then combined with sugar, milk powder, and cocoa butter to create the smooth and velvety texture that milk chocolate is known for. The mixture is then conched, a process that involves grinding and kneading the chocolate to further refine its texture and flavor.\n",
      "\n",
      "When it comes to popular brands and products that use milk chocolate, the options are endless. From classic chocolate bars to indulgent truffles, milk chocolate can be found in a wide variety of delicious treats. Some well-known brands that specialize in milk chocolate include Hershey's, Cadbury, and Lindt. Whether you're enjoying a simple milk chocolate bar or savoring a decadent milk chocolate dessert, this beloved confection is sure to bring a smile to your face.\n",
      "\n",
      "So, the next time you find yourself craving something sweet, reach for a piece of milk chocolate and let its smooth and creamy goodness transport you to chocolate heaven.\n",
      "\n",
      "## Dark Chocolate\n",
      "Dark chocolate is a beloved treat for many, known for its rich flavor and velvety texture. But did you know that it also offers a range of health benefits? In this section, we will explore the features and qualities of dark chocolate, as well as its potential impact on our well-being.\n",
      "\n",
      "One of the key reasons why dark chocolate is considered a healthier option compared to its milk chocolate counterpart is its higher cocoa content. Cocoa is packed with antioxidants, which help protect our cells from damage caused by free radicals. These antioxidants have been linked to a range of health benefits, including reducing inflammation and improving brain function.\n",
      "\n",
      "Additionally, dark chocolate has been associated with potential cardiovascular benefits. Studies have shown that consuming moderate amounts of dark chocolate may help lower blood pressure and improve blood flow. This is due to the presence of flavanols, a type of plant compound found in cocoa that can promote heart health.\n",
      "\n",
      "When it comes to choosing dark chocolate, you may have noticed different percentages of cocoa listed on the packaging. This percentage refers to the amount of cocoa solids in the chocolate. Generally, the higher the percentage, the more intense and bitter the chocolate will taste. However, it's important to note that higher cocoa content also means a higher concentration of antioxidants and potential health benefits.\n",
      "\n",
      "So, the next time you're craving something sweet, consider reaching for a piece of dark chocolate. Not only will you satisfy your taste buds, but you may also be doing your body a favor. Just remember to opt for dark chocolate with a higher cocoa content to reap the maximum health benefits.\n",
      "\n",
      "## White Chocolate\n",
      "White chocolate is a fascinating treat that has captured the hearts of many dessert enthusiasts. However, did you know that white chocolate is not technically a true chocolate? That's right! Unlike its darker counterparts, white chocolate lacks cocoa solids, which are responsible for the rich and distinct flavor of chocolate. But don't let that discourage you from indulging in this creamy delight. Let's take a closer look at the unique characteristics of white chocolate.\n",
      "\n",
      "When it comes to ingredients, white chocolate primarily consists of cocoa butter, sugar, and milk. Cocoa butter, the fat extracted from cocoa beans, gives white chocolate its smooth and velvety texture. The addition of sugar adds a touch of sweetness, while milk contributes to its creamy and milky flavor. These ingredients work together harmoniously to create a delectable treat that melts in your mouth.\n",
      "\n",
      "However, white chocolate has faced its fair share of controversy. Some argue that it lacks the health benefits associated with milk and dark chocolate. While milk and dark chocolate contain antioxidants and flavonoids that have been linked to various health benefits, white chocolate falls short in this department. It's important to note that white chocolate contains no cocoa solids, which are responsible for these beneficial compounds. So, if you're looking for a guilt-free indulgence, you might want to opt for its darker counterparts.\n",
      "\n",
      "Despite the controversy, white chocolate continues to be a beloved treat for many. Its creamy texture and sweet flavor make it a versatile ingredient in various desserts and confections. Whether you enjoy it on its own or use it to elevate your favorite recipes, white chocolate is sure to satisfy your sweet tooth. So go ahead, treat yourself to a decadent bite of this not-so-chocolatey delight!\n",
      "\n",
      "## Health Benefits Comparison\n",
      "Health Benefits Comparison\n",
      "\n",
      "When it comes to chocolate, there are three main types to choose from: milk, dark, and white. Each type has its own unique flavor profile and texture, but what about their health benefits? Let's take a closer look at how these chocolates compare and what potential benefits they offer.\n",
      "\n",
      "First, let's talk about the benefits of consuming moderate amounts of chocolate in general. Chocolate, especially dark chocolate, is rich in antioxidants called flavonoids. These compounds have been linked to various health benefits, including improved mood and cognitive function. So, indulging in a little chocolate can actually be good for you!\n",
      "\n",
      "Now, let's dive into the differences between milk, dark, and white chocolate. Milk chocolate is the sweetest of the three, thanks to its higher sugar and milk content. It's a crowd favorite for its creamy and smooth texture. Dark chocolate, on the other hand, has a higher cocoa content and less sugar. This gives it a more intense and slightly bitter taste. Finally, white chocolate is made from cocoa butter, sugar, and milk solids. It has a milder flavor and lacks the characteristic cocoa taste.\n",
      "\n",
      "When it comes to health benefits, dark chocolate takes the lead. Its higher cocoa content means it contains more flavonoids, making it a healthier choice compared to milk and white chocolate. However, it's important to note that not all chocolate is created equal. To reap the maximum health benefits, it's crucial to choose high-quality chocolate that is minimally processed and has a high cocoa content.\n",
      "\n",
      "In conclusion, while all types of chocolate can bring joy to our taste buds, dark chocolate stands out as the healthiest option. Its rich cocoa content and lower sugar levels make it a guilt-free indulgence. Remember, moderation is key when it comes to enjoying chocolate. So go ahead, savor a piece of your favorite chocolate, and reap the benefits it has to offer.\n",
      "\n",
      "[Image placeholder: Image of a variety of chocolate bars]\n",
      "\n",
      "## Conclusion\n",
      "In conclusion, understanding the differences between milk, dark, and white chocolate is crucial when it comes to making informed choices about our chocolate consumption. Let's recap the key points discussed in this blog post:\n",
      "\n",
      "1. Milk chocolate: This popular variety contains milk powder or condensed milk, giving it a creamy and sweet taste. It is a great option for those who prefer a milder and sweeter flavor.\n",
      "\n",
      "2. Dark chocolate: With a higher percentage of cocoa solids and less sugar, dark chocolate offers a more intense and bittersweet taste. It is known for its potential health benefits, such as being rich in antioxidants and potentially improving heart health.\n",
      "\n",
      "3. White chocolate: Despite its name, white chocolate does not contain cocoa solids. Instead, it is made from cocoa butter, sugar, and milk solids. It has a smooth and sweet flavor, making it a favorite among those who enjoy a sweeter treat.\n",
      "\n",
      "Now that we have a better understanding of these chocolate varieties, it's important to make choices that align with our preferences and health goals. Here are a few tips to keep in mind:\n",
      "\n",
      "- Read the labels: Pay attention to the ingredients and nutritional information to ensure you are selecting a chocolate product that suits your needs.\n",
      "\n",
      "- Moderation is key: While dark chocolate may offer health benefits, it's still important to consume it in moderation. Enjoying a small piece or two can satisfy your chocolate cravings without overindulging.\n",
      "\n",
      "- Experiment and explore: Don't be afraid to try different types of chocolate and brands to find your favorite. There is a wide range of flavors and textures to discover.\n",
      "\n",
      "In conclusion, chocolate is a delightful treat that can be enjoyed in various forms. By understanding the differences between milk, dark, and white chocolate, we can make informed choices that align with our preferences and health goals. So go ahead, savor that piece of chocolate, and indulge in the pleasure it brings.\n",
      "\n",
      "\n"
     ]
    }
   ],
   "source": [
    "blog_post = \"\"\n",
    "i = 0\n",
    "for section_title, section_description in short_summaries:\n",
    "    prev_title = None\n",
    "    next_title = None\n",
    "    if i > 0:\n",
    "        prev_title, _ = short_summaries[i-1]\n",
    "    if i < len(short_summaries) - 1:\n",
    "        next_title, _ = short_summaries[i+1]\n",
    "    section_summary = generate_section_summary(section_title, section_description, prev_title, next_title)\n",
    "    section_text = generate_section_text(f\"{section_title}\\n{section_description}\")\n",
    "    blog_post += f\"## {section_title}\\n{section_text}\\n\\n\"\n",
    "    i += 1\n",
    "\n",
    "print(\"Final blog post:\")\n",
    "print(blog_post)"
   ]
  },
  {
   "cell_type": "code",
   "execution_count": 34,
   "metadata": {},
   "outputs": [
    {
     "data": {
      "text/plain": [
       "'1: Introduction\\n- Brief overview of the blog post topic\\n- Explanation of the three different types of chocolate\\n- Mention of the focus on health benefits\\n\\n'"
      ]
     },
     "execution_count": 34,
     "metadata": {},
     "output_type": "execute_result"
    }
   ],
   "source": [
    "sections[0]"
   ]
  },
  {
   "cell_type": "markdown",
   "metadata": {},
   "source": [
    "## Improving continuity\n",
    "The sections are good in their own right but they often repeat information from previous sections or generally talk in a way that is clearly ignorant of what has been or will be talked about. To improve this we will need to provide more context to the writer about what has been talked about so far.\n",
    "\n",
    "### Keeping track of key events\n",
    "In order to keep track of key events we will introduce a new variable `key_events` which will be a list of the key events that have happened so far in the story. We will add this to the prompt for each scene. To do this we will need to rewrite the `generate_section_text` function."
   ]
  },
  {
   "cell_type": "markdown",
   "metadata": {},
   "source": [
    "### Further improvements\n",
    "These results are quite promising, the script is finally getting longer and roughly follows the initial storyline laid out at the beginning, but there are still some issues: \n",
    "- The start of one scene does not always make sense in the context of the previous scene. The scenes can sometimes repeat the events of the previous one, or go in a different direction. This can be improved by making model output better key events after it finishes its script, and in particular, outputting where the scene leaves off.\n",
    "\n",
    "- Sometimes, the script for a scene continues to generate beyond the scene summary, and into the next scene. This is because the model is not aware of the next scene's story and so it doesn't know it should stop. We can try to fix this by: \n",
    "    - adding the next scene's summary to the prompt\n",
    "    - giving explicit instructions on how each scene should end\n",
    "\n",
    "    \n",
    "- The events of scenes which happened further back in the story are not remembered and can lead to incongruous events. This could be improved by adding the key events of the whole story to the prompt. However, we need to be careful we do not \"dilute\" the prompt too much by adding too much information. Another approach could be to track the status of each character throughout the story and add this to the prompt. For example, if a character is dead, we can add this to the prompt so that the model knows not to include them in the scene.\n",
    "\n",
    "- The scenes being generated are always a direct continuation of the previous scene. In actual movie scripts, scenes are often not directly related to the previous scene and may jump between several sub-plots, which interweave throughout the story. This creates much more engaging movies. We can try to address this by improving the intial story summary to include a more interesting story structure, however we would then need to more carefully manage which key events are passed to each scene.\n",
    "\n",
    "Note: We could check that the scene's key events line up to the scene summary each time we generate a script and if there is a mismatch, request a new script generation, possibly with a different temperature.\n"
   ]
  }
 ],
 "metadata": {
  "kernelspec": {
   "display_name": "Python 3",
   "language": "python",
   "name": "python3"
  },
  "language_info": {
   "codemirror_mode": {
    "name": "ipython",
    "version": 3
   },
   "file_extension": ".py",
   "mimetype": "text/x-python",
   "name": "python",
   "nbconvert_exporter": "python",
   "pygments_lexer": "ipython3",
   "version": "3.11.4"
  },
  "orig_nbformat": 4
 },
 "nbformat": 4,
 "nbformat_minor": 2
}
